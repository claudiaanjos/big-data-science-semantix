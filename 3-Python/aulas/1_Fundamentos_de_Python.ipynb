{
  "cells": [
    {
      "cell_type": "markdown",
      "metadata": {
        "id": "spzPDEEeU5hc"
      },
      "source": [
        "#  <a name=\"resumo\"> RESUMO </a>"
      ]
    },
    {
      "cell_type": "markdown",
      "metadata": {
        "id": "mBSg3ddxU5hc"
      },
      "source": [
        "Este notebook tem o objetivo de ensinar o conceitos fundamentais de ***Python***. O foco não é ensinar programação do zero, mas sim permitir alguém que programa em outra linguagem ter o entedimento básico de como programar em python"
      ]
    },
    {
      "cell_type": "markdown",
      "metadata": {
        "id": "2dkh4iwxU5hc"
      },
      "source": [
        "#  <a name=\"indice\">  Índice </a>"
      ]
    },
    {
      "cell_type": "markdown",
      "metadata": {
        "tags": [
          "indice"
        ],
        "id": "St0GVwEKU5hc"
      },
      "source": [
        "* [Resumo](#resumo)\n",
        "* [Índice](#indice)\n",
        "* [1. Listas, Tuplas e Strings](#secao_1)\n",
        "* [2. Loops](#secao_2)\n",
        "* [3. IF ELSE](#secao_3)\n",
        "* [4. Funções](#secao_4)\n",
        "* [5. Classes](#secao_5)\n",
        "* [6. Imports](#secao_6) \n",
        "* [7. Erros](#secao_7)\n",
        "* [Conclusão](#conclusao)"
      ]
    },
    {
      "cell_type": "markdown",
      "metadata": {
        "id": "lUrYtwmSU5hd"
      },
      "source": [
        "#  <a name=\"secao_1\"> 1. Listas, Tuplas e Strings </a>\n",
        "[voltar ao índice](#indice)"
      ]
    },
    {
      "cell_type": "code",
      "execution_count": 1,
      "metadata": {
        "id": "T3alQzYwU5hd"
      },
      "outputs": [],
      "source": [
        "inteiros = [1,2,3,4,5] # lista\n",
        "tupla_inteiros = (1,2,3,4,5,6) #tupla\n",
        "palavra = 'Palmeiras' #string"
      ]
    },
    {
      "cell_type": "markdown",
      "metadata": {
        "id": "-bGAcCtfU5he"
      },
      "source": [
        "Os métodos de um objeto"
      ]
    },
    {
      "cell_type": "code",
      "execution_count": 2,
      "metadata": {
        "colab": {
          "base_uri": "https://localhost:8080/"
        },
        "id": "mcNnpI0kU5he",
        "outputId": "98cad007-eeb5-4878-d30f-38c87a0c4dd6"
      },
      "outputs": [
        {
          "output_type": "execute_result",
          "data": {
            "text/plain": [
              "['__add__',\n",
              " '__class__',\n",
              " '__class_getitem__',\n",
              " '__contains__',\n",
              " '__delattr__',\n",
              " '__delitem__',\n",
              " '__dir__',\n",
              " '__doc__',\n",
              " '__eq__',\n",
              " '__format__',\n",
              " '__ge__',\n",
              " '__getattribute__',\n",
              " '__getitem__',\n",
              " '__gt__',\n",
              " '__hash__',\n",
              " '__iadd__',\n",
              " '__imul__',\n",
              " '__init__',\n",
              " '__init_subclass__',\n",
              " '__iter__',\n",
              " '__le__',\n",
              " '__len__',\n",
              " '__lt__',\n",
              " '__mul__',\n",
              " '__ne__',\n",
              " '__new__',\n",
              " '__reduce__',\n",
              " '__reduce_ex__',\n",
              " '__repr__',\n",
              " '__reversed__',\n",
              " '__rmul__',\n",
              " '__setattr__',\n",
              " '__setitem__',\n",
              " '__sizeof__',\n",
              " '__str__',\n",
              " '__subclasshook__',\n",
              " 'append',\n",
              " 'clear',\n",
              " 'copy',\n",
              " 'count',\n",
              " 'extend',\n",
              " 'index',\n",
              " 'insert',\n",
              " 'pop',\n",
              " 'remove',\n",
              " 'reverse',\n",
              " 'sort']"
            ]
          },
          "metadata": {},
          "execution_count": 2
        }
      ],
      "source": [
        "dir(inteiros)"
      ]
    },
    {
      "cell_type": "code",
      "execution_count": 3,
      "metadata": {
        "colab": {
          "base_uri": "https://localhost:8080/"
        },
        "id": "4Tir9zg1U5hf",
        "outputId": "7ab4ba2b-5233-43ce-aae6-ff54da331ab5"
      },
      "outputs": [
        {
          "output_type": "execute_result",
          "data": {
            "text/plain": [
              "['__add__',\n",
              " '__class__',\n",
              " '__class_getitem__',\n",
              " '__contains__',\n",
              " '__delattr__',\n",
              " '__dir__',\n",
              " '__doc__',\n",
              " '__eq__',\n",
              " '__format__',\n",
              " '__ge__',\n",
              " '__getattribute__',\n",
              " '__getitem__',\n",
              " '__getnewargs__',\n",
              " '__gt__',\n",
              " '__hash__',\n",
              " '__init__',\n",
              " '__init_subclass__',\n",
              " '__iter__',\n",
              " '__le__',\n",
              " '__len__',\n",
              " '__lt__',\n",
              " '__mul__',\n",
              " '__ne__',\n",
              " '__new__',\n",
              " '__reduce__',\n",
              " '__reduce_ex__',\n",
              " '__repr__',\n",
              " '__rmul__',\n",
              " '__setattr__',\n",
              " '__sizeof__',\n",
              " '__str__',\n",
              " '__subclasshook__',\n",
              " 'count',\n",
              " 'index']"
            ]
          },
          "metadata": {},
          "execution_count": 3
        }
      ],
      "source": [
        "dir(tupla_inteiros)"
      ]
    },
    {
      "cell_type": "code",
      "execution_count": 4,
      "metadata": {
        "colab": {
          "base_uri": "https://localhost:8080/"
        },
        "id": "gg1GX2s5U5hf",
        "outputId": "102dfac1-526c-44a1-ef7a-9d8a48854954"
      },
      "outputs": [
        {
          "output_type": "execute_result",
          "data": {
            "text/plain": [
              "['__add__',\n",
              " '__class__',\n",
              " '__contains__',\n",
              " '__delattr__',\n",
              " '__dir__',\n",
              " '__doc__',\n",
              " '__eq__',\n",
              " '__format__',\n",
              " '__ge__',\n",
              " '__getattribute__',\n",
              " '__getitem__',\n",
              " '__getnewargs__',\n",
              " '__gt__',\n",
              " '__hash__',\n",
              " '__init__',\n",
              " '__init_subclass__',\n",
              " '__iter__',\n",
              " '__le__',\n",
              " '__len__',\n",
              " '__lt__',\n",
              " '__mod__',\n",
              " '__mul__',\n",
              " '__ne__',\n",
              " '__new__',\n",
              " '__reduce__',\n",
              " '__reduce_ex__',\n",
              " '__repr__',\n",
              " '__rmod__',\n",
              " '__rmul__',\n",
              " '__setattr__',\n",
              " '__sizeof__',\n",
              " '__str__',\n",
              " '__subclasshook__',\n",
              " 'capitalize',\n",
              " 'casefold',\n",
              " 'center',\n",
              " 'count',\n",
              " 'encode',\n",
              " 'endswith',\n",
              " 'expandtabs',\n",
              " 'find',\n",
              " 'format',\n",
              " 'format_map',\n",
              " 'index',\n",
              " 'isalnum',\n",
              " 'isalpha',\n",
              " 'isascii',\n",
              " 'isdecimal',\n",
              " 'isdigit',\n",
              " 'isidentifier',\n",
              " 'islower',\n",
              " 'isnumeric',\n",
              " 'isprintable',\n",
              " 'isspace',\n",
              " 'istitle',\n",
              " 'isupper',\n",
              " 'join',\n",
              " 'ljust',\n",
              " 'lower',\n",
              " 'lstrip',\n",
              " 'maketrans',\n",
              " 'partition',\n",
              " 'removeprefix',\n",
              " 'removesuffix',\n",
              " 'replace',\n",
              " 'rfind',\n",
              " 'rindex',\n",
              " 'rjust',\n",
              " 'rpartition',\n",
              " 'rsplit',\n",
              " 'rstrip',\n",
              " 'split',\n",
              " 'splitlines',\n",
              " 'startswith',\n",
              " 'strip',\n",
              " 'swapcase',\n",
              " 'title',\n",
              " 'translate',\n",
              " 'upper',\n",
              " 'zfill']"
            ]
          },
          "metadata": {},
          "execution_count": 4
        }
      ],
      "source": [
        "dir(palavra)"
      ]
    },
    {
      "cell_type": "markdown",
      "metadata": {
        "id": "z6pabfklU5hf"
      },
      "source": [
        "Indexação:"
      ]
    },
    {
      "cell_type": "code",
      "execution_count": 5,
      "metadata": {
        "colab": {
          "base_uri": "https://localhost:8080/",
          "height": 35
        },
        "id": "c_hkEQDAU5hf",
        "outputId": "4e2d9ba1-3cbe-4e6c-9007-bd06133660f7"
      },
      "outputs": [
        {
          "output_type": "execute_result",
          "data": {
            "text/plain": [
              "'Pal'"
            ],
            "application/vnd.google.colaboratory.intrinsic+json": {
              "type": "string"
            }
          },
          "metadata": {},
          "execution_count": 5
        }
      ],
      "source": [
        "palavra[0:3]"
      ]
    },
    {
      "cell_type": "code",
      "execution_count": 6,
      "metadata": {
        "colab": {
          "base_uri": "https://localhost:8080/"
        },
        "id": "ygngHuBfU5hf",
        "outputId": "de1481a6-7fc3-469d-9953-80e9c36b0418"
      },
      "outputs": [
        {
          "output_type": "execute_result",
          "data": {
            "text/plain": [
              "[1, 2, 3, 4]"
            ]
          },
          "metadata": {},
          "execution_count": 6
        }
      ],
      "source": [
        "inteiros[0:4]"
      ]
    },
    {
      "cell_type": "code",
      "execution_count": 7,
      "metadata": {
        "colab": {
          "base_uri": "https://localhost:8080/",
          "height": 35
        },
        "id": "POyiOG-yU5hg",
        "outputId": "72824437-1a4d-47ea-c7e0-d3de155004de"
      },
      "outputs": [
        {
          "output_type": "execute_result",
          "data": {
            "text/plain": [
              "'s'"
            ],
            "application/vnd.google.colaboratory.intrinsic+json": {
              "type": "string"
            }
          },
          "metadata": {},
          "execution_count": 7
        }
      ],
      "source": [
        "palavra[-1]"
      ]
    },
    {
      "cell_type": "markdown",
      "metadata": {
        "id": "xMnWse4PU5hg"
      },
      "source": [
        "<span style=\"color:red\">Atenção!: Indice no python começa em zero</span>\n",
        "\n",
        "<span style=\"color:red\">Atenção!: O ultimo número da indexação não é retornado</span>"
      ]
    },
    {
      "cell_type": "markdown",
      "metadata": {
        "id": "7y2UcW_6U5hg"
      },
      "source": [
        "Modificação"
      ]
    },
    {
      "cell_type": "code",
      "execution_count": 8,
      "metadata": {
        "colab": {
          "base_uri": "https://localhost:8080/"
        },
        "id": "MBRXGgfcU5hg",
        "outputId": "e3223d8d-e119-453f-cec9-3d7ae1d3aa83"
      },
      "outputs": [
        {
          "output_type": "execute_result",
          "data": {
            "text/plain": [
              "[1, 2, 3, 4, 5]"
            ]
          },
          "metadata": {},
          "execution_count": 8
        }
      ],
      "source": [
        "inteiros"
      ]
    },
    {
      "cell_type": "code",
      "execution_count": 9,
      "metadata": {
        "id": "i4BRMyeQU5hg"
      },
      "outputs": [],
      "source": [
        "inteiros.append(6)"
      ]
    },
    {
      "cell_type": "code",
      "execution_count": 10,
      "metadata": {
        "colab": {
          "base_uri": "https://localhost:8080/"
        },
        "id": "IltRyg6RU5hh",
        "outputId": "f4d24642-6419-4808-8909-d32705e8229d"
      },
      "outputs": [
        {
          "output_type": "execute_result",
          "data": {
            "text/plain": [
              "[1, 2, 3, 4, 5, 6]"
            ]
          },
          "metadata": {},
          "execution_count": 10
        }
      ],
      "source": [
        "inteiros"
      ]
    },
    {
      "cell_type": "code",
      "execution_count": 11,
      "metadata": {
        "colab": {
          "base_uri": "https://localhost:8080/"
        },
        "id": "3UJzF5d7U5hh",
        "outputId": "52a70655-6f71-4804-caf5-b23dc40700d3"
      },
      "outputs": [
        {
          "output_type": "execute_result",
          "data": {
            "text/plain": [
              "6"
            ]
          },
          "metadata": {},
          "execution_count": 11
        }
      ],
      "source": [
        "inteiros.pop()"
      ]
    },
    {
      "cell_type": "code",
      "execution_count": 12,
      "metadata": {
        "colab": {
          "base_uri": "https://localhost:8080/"
        },
        "id": "cyBGRESmU5hh",
        "outputId": "830a8e17-aedd-4b3d-c660-8e534311f7d2"
      },
      "outputs": [
        {
          "output_type": "execute_result",
          "data": {
            "text/plain": [
              "[1, 2, 3, 4, 5]"
            ]
          },
          "metadata": {},
          "execution_count": 12
        }
      ],
      "source": [
        "inteiros"
      ]
    },
    {
      "cell_type": "code",
      "execution_count": 13,
      "metadata": {
        "colab": {
          "base_uri": "https://localhost:8080/"
        },
        "id": "H9gbldU7U5hh",
        "outputId": "8e940f3f-0847-48e3-85ae-a93627542122"
      },
      "outputs": [
        {
          "output_type": "execute_result",
          "data": {
            "text/plain": [
              "[1, 2, 3, 4, 5, 6, 5]"
            ]
          },
          "metadata": {},
          "execution_count": 13
        }
      ],
      "source": [
        "inteiros + [6,5]"
      ]
    },
    {
      "cell_type": "code",
      "execution_count": 14,
      "metadata": {
        "colab": {
          "base_uri": "https://localhost:8080/",
          "height": 35
        },
        "id": "y1DZx9_VU5hh",
        "outputId": "332bf85b-b1c1-45de-fe4d-9034a70e076f"
      },
      "outputs": [
        {
          "output_type": "execute_result",
          "data": {
            "text/plain": [
              "'Palmeirascampeão'"
            ],
            "application/vnd.google.colaboratory.intrinsic+json": {
              "type": "string"
            }
          },
          "metadata": {},
          "execution_count": 14
        }
      ],
      "source": [
        "palavra + 'campeão'"
      ]
    },
    {
      "cell_type": "markdown",
      "metadata": {
        "id": "9uN2y74xU5hi"
      },
      "source": [
        "Cópias"
      ]
    },
    {
      "cell_type": "code",
      "execution_count": 15,
      "metadata": {
        "scrolled": true,
        "id": "RaEYvRSPU5hi"
      },
      "outputs": [],
      "source": [
        "numeros = inteiros"
      ]
    },
    {
      "cell_type": "code",
      "execution_count": 16,
      "metadata": {
        "colab": {
          "base_uri": "https://localhost:8080/"
        },
        "id": "hJ_tWfmxU5hi",
        "outputId": "1e91774d-a436-4466-a9e7-f9d616f51ad2"
      },
      "outputs": [
        {
          "output_type": "execute_result",
          "data": {
            "text/plain": [
              "[1, 2, 3, 4, 5]"
            ]
          },
          "metadata": {},
          "execution_count": 16
        }
      ],
      "source": [
        "numeros"
      ]
    },
    {
      "cell_type": "code",
      "execution_count": 17,
      "metadata": {
        "colab": {
          "base_uri": "https://localhost:8080/"
        },
        "id": "lURVha3pU5hi",
        "outputId": "388fa318-4228-4e06-a759-36473401593c"
      },
      "outputs": [
        {
          "output_type": "execute_result",
          "data": {
            "text/plain": [
              "[1, 2, 3, 4, 5]"
            ]
          },
          "metadata": {},
          "execution_count": 17
        }
      ],
      "source": [
        "inteiros"
      ]
    },
    {
      "cell_type": "code",
      "execution_count": 18,
      "metadata": {
        "colab": {
          "base_uri": "https://localhost:8080/"
        },
        "id": "H6_muzESU5hi",
        "outputId": "f9dae8e7-7aa1-48e7-c524-369cbaa9908c"
      },
      "outputs": [
        {
          "output_type": "execute_result",
          "data": {
            "text/plain": [
              "5"
            ]
          },
          "metadata": {},
          "execution_count": 18
        }
      ],
      "source": [
        "numeros.pop()"
      ]
    },
    {
      "cell_type": "code",
      "execution_count": 19,
      "metadata": {
        "colab": {
          "base_uri": "https://localhost:8080/"
        },
        "id": "amyLtUsmU5hi",
        "outputId": "a7570097-048a-4b86-85ed-d00ffb50aaf7"
      },
      "outputs": [
        {
          "output_type": "execute_result",
          "data": {
            "text/plain": [
              "[1, 2, 3, 4]"
            ]
          },
          "metadata": {},
          "execution_count": 19
        }
      ],
      "source": [
        "numeros"
      ]
    },
    {
      "cell_type": "code",
      "execution_count": 20,
      "metadata": {
        "colab": {
          "base_uri": "https://localhost:8080/"
        },
        "id": "FKKTwVMjU5hj",
        "outputId": "12489bb3-d218-4402-d157-a77dd53e6b1a"
      },
      "outputs": [
        {
          "output_type": "execute_result",
          "data": {
            "text/plain": [
              "[1, 2, 3, 4]"
            ]
          },
          "metadata": {},
          "execution_count": 20
        }
      ],
      "source": [
        "inteiros"
      ]
    },
    {
      "cell_type": "code",
      "execution_count": 21,
      "metadata": {
        "id": "pGkTibFtU5hj"
      },
      "outputs": [],
      "source": [
        "numeros = inteiros[0:2]"
      ]
    },
    {
      "cell_type": "code",
      "execution_count": 22,
      "metadata": {
        "colab": {
          "base_uri": "https://localhost:8080/"
        },
        "id": "DIE1in97U5hj",
        "outputId": "225955a0-9c94-4d92-b99c-bb09c659f4fd"
      },
      "outputs": [
        {
          "output_type": "stream",
          "name": "stdout",
          "text": [
            "[1, 2]\n",
            "[1, 2, 3, 4]\n"
          ]
        }
      ],
      "source": [
        "print(numeros)\n",
        "print(inteiros)"
      ]
    },
    {
      "cell_type": "code",
      "execution_count": 23,
      "metadata": {
        "colab": {
          "base_uri": "https://localhost:8080/"
        },
        "id": "lJJy-hF1U5hj",
        "outputId": "8473497f-e4ec-4ffd-9c3c-564e16feb2b6"
      },
      "outputs": [
        {
          "output_type": "execute_result",
          "data": {
            "text/plain": [
              "2"
            ]
          },
          "metadata": {},
          "execution_count": 23
        }
      ],
      "source": [
        "numeros.pop()"
      ]
    },
    {
      "cell_type": "code",
      "execution_count": 24,
      "metadata": {
        "colab": {
          "base_uri": "https://localhost:8080/"
        },
        "id": "o0DKrsVwU5hj",
        "outputId": "9945b6df-ce80-4d8d-e881-fe27af4bdb4f"
      },
      "outputs": [
        {
          "output_type": "stream",
          "name": "stdout",
          "text": [
            "[1]\n",
            "[1, 2, 3, 4]\n"
          ]
        }
      ],
      "source": [
        "print(numeros)\n",
        "print(inteiros)"
      ]
    },
    {
      "cell_type": "markdown",
      "metadata": {
        "id": "DlISR9uZU5hj"
      },
      "source": [
        "<span style=\"color:red\">Atenção!: Cuidado com copias não intencionais</span>\n"
      ]
    },
    {
      "cell_type": "markdown",
      "metadata": {
        "id": "ihPjvCK6U5hk"
      },
      "source": [
        "#  <a name=\"secao_2\"> 2. Loops </a>\n",
        "[voltar ao índice](#indice)"
      ]
    },
    {
      "cell_type": "code",
      "execution_count": 25,
      "metadata": {
        "colab": {
          "base_uri": "https://localhost:8080/"
        },
        "id": "k0H9lKR2U5hk",
        "outputId": "ea7630bf-46ab-4b5d-9a89-d426e2bd1f7f"
      },
      "outputs": [
        {
          "output_type": "stream",
          "name": "stdout",
          "text": [
            "P\n",
            "a\n",
            "l\n",
            "m\n",
            "e\n",
            "i\n",
            "r\n",
            "a\n",
            "s\n"
          ]
        }
      ],
      "source": [
        "for i in range(len(palavra)):\n",
        "    print(palavra[i])"
      ]
    },
    {
      "cell_type": "code",
      "execution_count": 26,
      "metadata": {
        "colab": {
          "base_uri": "https://localhost:8080/"
        },
        "id": "aQLesW6dU5hk",
        "outputId": "140f133d-e01e-431e-b0b6-fe68527e1b64"
      },
      "outputs": [
        {
          "output_type": "stream",
          "name": "stdout",
          "text": [
            "['P', 'l', 'm', 'r', 's']\n",
            "Plmrs\n"
          ]
        }
      ],
      "source": [
        "vogais = ['a','e','i','o','u']\n",
        "extraido = [x for x in palavra if not x in vogais]\n",
        "print(extraido)\n",
        "unificado = ''\n",
        "for letra in extraido:\n",
        "    unificado = unificado+letra\n",
        "\n",
        "print(unificado)"
      ]
    },
    {
      "cell_type": "code",
      "execution_count": 27,
      "metadata": {
        "colab": {
          "base_uri": "https://localhost:8080/"
        },
        "id": "QgdRggyOU5hk",
        "outputId": "1ea46821-587f-43d6-b9c7-d7fa666a2c77"
      },
      "outputs": [
        {
          "output_type": "stream",
          "name": "stdout",
          "text": [
            "1\n",
            "2\n",
            "3\n",
            "4\n",
            "5\n",
            "6\n",
            "7\n",
            "8\n",
            "9\n",
            "10\n"
          ]
        }
      ],
      "source": [
        "contage = 10\n",
        "x=0\n",
        "\n",
        "while x <10:\n",
        "    x=x+1\n",
        "    print(x)\n"
      ]
    },
    {
      "cell_type": "markdown",
      "metadata": {
        "id": "tUNv-6boU5hk"
      },
      "source": [
        "#  <a name=\"secao_3\"> 3. IF ELSE </a>\n",
        "[voltar ao índice](#indice)"
      ]
    },
    {
      "cell_type": "code",
      "execution_count": 28,
      "metadata": {
        "colab": {
          "base_uri": "https://localhost:8080/"
        },
        "id": "zC3uoVAyU5hl",
        "outputId": "0b49f2eb-60ad-4176-9340-6fbc88f0b986"
      },
      "outputs": [
        {
          "output_type": "stream",
          "name": "stdout",
          "text": [
            "Achamos o P!\n",
            "a\n",
            "l não é uma vogal e nem P\n",
            "m não é uma vogal e nem P\n",
            "e\n",
            "i\n",
            "r não é uma vogal e nem P\n",
            "a\n",
            "s não é uma vogal e nem P\n"
          ]
        }
      ],
      "source": [
        "\n",
        "for letra in palavra:\n",
        "    if letra in vogais:\n",
        "        print(letra)\n",
        "    elif letra == 'P':\n",
        "        print('Achamos o P!')\n",
        "    else:\n",
        "        print('{} não é uma vogal e nem P'.format(letra))\n"
      ]
    },
    {
      "cell_type": "markdown",
      "metadata": {
        "id": "yOOnJw3nU5hl"
      },
      "source": [
        "#  <a name=\"secao_4\"> 4. Funções </a>\n",
        "[voltar ao índice](#indice)"
      ]
    },
    {
      "cell_type": "code",
      "execution_count": 29,
      "metadata": {
        "id": "M4wHFyPZU5hl"
      },
      "outputs": [],
      "source": [
        "def procurando_vogais_e_P(palavra):\n",
        "    for letra in palavra:\n",
        "        if letra in vogais:\n",
        "            print(letra)\n",
        "        elif letra == 'P':\n",
        "            print('Achamos o P!')\n",
        "        else:\n",
        "            print('{} não é uma vogal e nem P'.format(letra))"
      ]
    },
    {
      "cell_type": "code",
      "execution_count": 30,
      "metadata": {
        "colab": {
          "base_uri": "https://localhost:8080/"
        },
        "id": "zyV8Y7vCU5hl",
        "outputId": "bf024f5f-a2a2-417e-ec14-7d860cf7c51e"
      },
      "outputs": [
        {
          "output_type": "stream",
          "name": "stdout",
          "text": [
            "S não é uma vogal e nem P\n",
            "ã não é uma vogal e nem P\n",
            "o\n",
            "  não é uma vogal e nem P\n",
            "Achamos o P!\n",
            "a\n",
            "u\n",
            "l não é uma vogal e nem P\n",
            "o\n"
          ]
        }
      ],
      "source": [
        "procurando_vogais_e_P('São Paulo')"
      ]
    },
    {
      "cell_type": "code",
      "execution_count": 31,
      "metadata": {
        "id": "5sR5dvIAU5hm"
      },
      "outputs": [],
      "source": [
        "def conta_letras(palavra):\n",
        "    return len(palavra)"
      ]
    },
    {
      "cell_type": "code",
      "execution_count": 32,
      "metadata": {
        "colab": {
          "base_uri": "https://localhost:8080/"
        },
        "id": "Qd097OLmU5hm",
        "outputId": "99c36b8b-c700-45d1-d48d-9e0d5d4b4005"
      },
      "outputs": [
        {
          "output_type": "execute_result",
          "data": {
            "text/plain": [
              "9"
            ]
          },
          "metadata": {},
          "execution_count": 32
        }
      ],
      "source": [
        "conta_letras(palavra)"
      ]
    },
    {
      "cell_type": "markdown",
      "metadata": {
        "id": "3raLfibuU5hm"
      },
      "source": [
        "#  <a name=\"secao_5\"> 5. Classes </a>\n",
        "[voltar ao índice](#indice)"
      ]
    },
    {
      "cell_type": "code",
      "execution_count": 33,
      "metadata": {
        "id": "nLWm2OsbU5hm"
      },
      "outputs": [],
      "source": [
        "class Animal():\n",
        "    def __init__(self, tem_pelos,tem_quatro_patas):\n",
        "        self.tem_pelos = tem_pelos\n",
        "        self.tem_quatro_patas = tem_quatro_patas\n",
        "    \n",
        "    def emite_som(self):\n",
        "        if self.tem_pelos & self.tem_quatro_patas:\n",
        "            return 'latido'\n",
        "\n",
        "class gato(Animal):\n",
        "    def emite_som(self):\n",
        "        if self.tem_pelos & self.tem_quatro_patas:\n",
        "            return 'miado'"
      ]
    },
    {
      "cell_type": "code",
      "execution_count": 34,
      "metadata": {
        "id": "knjpXSQvU5hm"
      },
      "outputs": [],
      "source": [
        "cao = Animal(True,tem_quatro_patas = True)"
      ]
    },
    {
      "cell_type": "code",
      "execution_count": 35,
      "metadata": {
        "colab": {
          "base_uri": "https://localhost:8080/"
        },
        "id": "MwPSqXj8U5hm",
        "outputId": "72d179a6-61ab-44e3-a849-902538fb309e"
      },
      "outputs": [
        {
          "output_type": "execute_result",
          "data": {
            "text/plain": [
              "True"
            ]
          },
          "metadata": {},
          "execution_count": 35
        }
      ],
      "source": [
        "cao.tem_pelos"
      ]
    },
    {
      "cell_type": "code",
      "execution_count": 36,
      "metadata": {
        "colab": {
          "base_uri": "https://localhost:8080/"
        },
        "id": "gm8sGlo5U5hn",
        "outputId": "00e9beed-c587-4f8d-f12f-964c3ebabbc6"
      },
      "outputs": [
        {
          "output_type": "execute_result",
          "data": {
            "text/plain": [
              "True"
            ]
          },
          "metadata": {},
          "execution_count": 36
        }
      ],
      "source": [
        "cao.tem_quatro_patas"
      ]
    },
    {
      "cell_type": "code",
      "execution_count": 37,
      "metadata": {
        "colab": {
          "base_uri": "https://localhost:8080/",
          "height": 35
        },
        "id": "y7xdg-ZBU5hn",
        "outputId": "10ac3ccb-c61c-4d23-e608-e38f951a3026"
      },
      "outputs": [
        {
          "output_type": "execute_result",
          "data": {
            "text/plain": [
              "'latido'"
            ],
            "application/vnd.google.colaboratory.intrinsic+json": {
              "type": "string"
            }
          },
          "metadata": {},
          "execution_count": 37
        }
      ],
      "source": [
        "cao.emite_som()"
      ]
    },
    {
      "cell_type": "code",
      "execution_count": 38,
      "metadata": {
        "id": "OH2omXRPU5hn"
      },
      "outputs": [],
      "source": [
        "listrado = gato(True,True)"
      ]
    },
    {
      "cell_type": "code",
      "execution_count": 39,
      "metadata": {
        "colab": {
          "base_uri": "https://localhost:8080/",
          "height": 35
        },
        "id": "fSIRdtVgU5hn",
        "outputId": "9f128b61-ca77-4716-e13a-93e044e92ca7"
      },
      "outputs": [
        {
          "output_type": "execute_result",
          "data": {
            "text/plain": [
              "'miado'"
            ],
            "application/vnd.google.colaboratory.intrinsic+json": {
              "type": "string"
            }
          },
          "metadata": {},
          "execution_count": 39
        }
      ],
      "source": [
        "listrado.emite_som()"
      ]
    },
    {
      "cell_type": "markdown",
      "metadata": {
        "id": "N-tjYVPeU5hn"
      },
      "source": [
        "#  <a name=\"secao_6\"> 6. Imports </a>\n",
        "[voltar ao índice](#indice)"
      ]
    },
    {
      "cell_type": "code",
      "execution_count": 40,
      "metadata": {
        "id": "AWola3whU5ho"
      },
      "outputs": [],
      "source": [
        "import numpy as np\n",
        "import os\n",
        "import pandas as pd"
      ]
    },
    {
      "cell_type": "code",
      "execution_count": 41,
      "metadata": {
        "id": "ln5VJGcVU5ho"
      },
      "outputs": [],
      "source": [
        "vetor = np.array([1,2,3])"
      ]
    },
    {
      "cell_type": "code",
      "execution_count": 42,
      "metadata": {
        "colab": {
          "base_uri": "https://localhost:8080/"
        },
        "id": "hsHhuEKTU5ho",
        "outputId": "eab4c360-7990-4cff-ad65-ae6a3b6d7f55"
      },
      "outputs": [
        {
          "output_type": "execute_result",
          "data": {
            "text/plain": [
              "['T',\n",
              " '__abs__',\n",
              " '__add__',\n",
              " '__and__',\n",
              " '__array__',\n",
              " '__array_finalize__',\n",
              " '__array_function__',\n",
              " '__array_interface__',\n",
              " '__array_prepare__',\n",
              " '__array_priority__',\n",
              " '__array_struct__',\n",
              " '__array_ufunc__',\n",
              " '__array_wrap__',\n",
              " '__bool__',\n",
              " '__class__',\n",
              " '__class_getitem__',\n",
              " '__complex__',\n",
              " '__contains__',\n",
              " '__copy__',\n",
              " '__deepcopy__',\n",
              " '__delattr__',\n",
              " '__delitem__',\n",
              " '__dir__',\n",
              " '__divmod__',\n",
              " '__dlpack__',\n",
              " '__dlpack_device__',\n",
              " '__doc__',\n",
              " '__eq__',\n",
              " '__float__',\n",
              " '__floordiv__',\n",
              " '__format__',\n",
              " '__ge__',\n",
              " '__getattribute__',\n",
              " '__getitem__',\n",
              " '__gt__',\n",
              " '__hash__',\n",
              " '__iadd__',\n",
              " '__iand__',\n",
              " '__ifloordiv__',\n",
              " '__ilshift__',\n",
              " '__imatmul__',\n",
              " '__imod__',\n",
              " '__imul__',\n",
              " '__index__',\n",
              " '__init__',\n",
              " '__init_subclass__',\n",
              " '__int__',\n",
              " '__invert__',\n",
              " '__ior__',\n",
              " '__ipow__',\n",
              " '__irshift__',\n",
              " '__isub__',\n",
              " '__iter__',\n",
              " '__itruediv__',\n",
              " '__ixor__',\n",
              " '__le__',\n",
              " '__len__',\n",
              " '__lshift__',\n",
              " '__lt__',\n",
              " '__matmul__',\n",
              " '__mod__',\n",
              " '__mul__',\n",
              " '__ne__',\n",
              " '__neg__',\n",
              " '__new__',\n",
              " '__or__',\n",
              " '__pos__',\n",
              " '__pow__',\n",
              " '__radd__',\n",
              " '__rand__',\n",
              " '__rdivmod__',\n",
              " '__reduce__',\n",
              " '__reduce_ex__',\n",
              " '__repr__',\n",
              " '__rfloordiv__',\n",
              " '__rlshift__',\n",
              " '__rmatmul__',\n",
              " '__rmod__',\n",
              " '__rmul__',\n",
              " '__ror__',\n",
              " '__rpow__',\n",
              " '__rrshift__',\n",
              " '__rshift__',\n",
              " '__rsub__',\n",
              " '__rtruediv__',\n",
              " '__rxor__',\n",
              " '__setattr__',\n",
              " '__setitem__',\n",
              " '__setstate__',\n",
              " '__sizeof__',\n",
              " '__str__',\n",
              " '__sub__',\n",
              " '__subclasshook__',\n",
              " '__truediv__',\n",
              " '__xor__',\n",
              " 'all',\n",
              " 'any',\n",
              " 'argmax',\n",
              " 'argmin',\n",
              " 'argpartition',\n",
              " 'argsort',\n",
              " 'astype',\n",
              " 'base',\n",
              " 'byteswap',\n",
              " 'choose',\n",
              " 'clip',\n",
              " 'compress',\n",
              " 'conj',\n",
              " 'conjugate',\n",
              " 'copy',\n",
              " 'ctypes',\n",
              " 'cumprod',\n",
              " 'cumsum',\n",
              " 'data',\n",
              " 'diagonal',\n",
              " 'dot',\n",
              " 'dtype',\n",
              " 'dump',\n",
              " 'dumps',\n",
              " 'fill',\n",
              " 'flags',\n",
              " 'flat',\n",
              " 'flatten',\n",
              " 'getfield',\n",
              " 'imag',\n",
              " 'item',\n",
              " 'itemset',\n",
              " 'itemsize',\n",
              " 'max',\n",
              " 'mean',\n",
              " 'min',\n",
              " 'nbytes',\n",
              " 'ndim',\n",
              " 'newbyteorder',\n",
              " 'nonzero',\n",
              " 'partition',\n",
              " 'prod',\n",
              " 'ptp',\n",
              " 'put',\n",
              " 'ravel',\n",
              " 'real',\n",
              " 'repeat',\n",
              " 'reshape',\n",
              " 'resize',\n",
              " 'round',\n",
              " 'searchsorted',\n",
              " 'setfield',\n",
              " 'setflags',\n",
              " 'shape',\n",
              " 'size',\n",
              " 'sort',\n",
              " 'squeeze',\n",
              " 'std',\n",
              " 'strides',\n",
              " 'sum',\n",
              " 'swapaxes',\n",
              " 'take',\n",
              " 'tobytes',\n",
              " 'tofile',\n",
              " 'tolist',\n",
              " 'tostring',\n",
              " 'trace',\n",
              " 'transpose',\n",
              " 'var',\n",
              " 'view']"
            ]
          },
          "metadata": {},
          "execution_count": 42
        }
      ],
      "source": [
        "dir(vetor)"
      ]
    },
    {
      "cell_type": "code",
      "execution_count": 43,
      "metadata": {
        "colab": {
          "base_uri": "https://localhost:8080/"
        },
        "id": "l3m9PRRYU5ho",
        "outputId": "99eb316d-6eb0-4a8b-b139-4ce4e7a63093"
      },
      "outputs": [
        {
          "output_type": "execute_result",
          "data": {
            "text/plain": [
              "2.0"
            ]
          },
          "metadata": {},
          "execution_count": 43
        }
      ],
      "source": [
        "vetor.mean()"
      ]
    },
    {
      "cell_type": "code",
      "execution_count": 44,
      "metadata": {
        "id": "YWTFo1AOU5ho"
      },
      "outputs": [],
      "source": [
        "from pandas import Timestamp"
      ]
    },
    {
      "cell_type": "code",
      "execution_count": 45,
      "metadata": {
        "colab": {
          "base_uri": "https://localhost:8080/"
        },
        "id": "lRV0-nBCU5ho",
        "outputId": "4a3f60a9-98de-4781-a739-b522d8ae25a3"
      },
      "outputs": [
        {
          "output_type": "stream",
          "name": "stderr",
          "text": [
            "<ipython-input-45-ba1c9aa39877>:1: UserWarning: Parsing dates in DD/MM/YYYY format when dayfirst=False (the default) was specified. This may lead to inconsistently parsed dates! Specify a format to ensure consistent parsing.\n",
            "  pd.Timestamp('31-01-2021')\n"
          ]
        },
        {
          "output_type": "execute_result",
          "data": {
            "text/plain": [
              "Timestamp('2021-01-31 00:00:00')"
            ]
          },
          "metadata": {},
          "execution_count": 45
        }
      ],
      "source": [
        "pd.Timestamp('31-01-2021')"
      ]
    },
    {
      "cell_type": "code",
      "execution_count": 46,
      "metadata": {
        "colab": {
          "base_uri": "https://localhost:8080/"
        },
        "id": "Mf0zvEq9U5ho",
        "outputId": "3f8e8550-69a1-4e32-e5ca-b61352db102e"
      },
      "outputs": [
        {
          "output_type": "stream",
          "name": "stderr",
          "text": [
            "<ipython-input-46-9c9cad170a9c>:1: UserWarning: Parsing dates in DD/MM/YYYY format when dayfirst=False (the default) was specified. This may lead to inconsistently parsed dates! Specify a format to ensure consistent parsing.\n",
            "  Timestamp('27-02-2021')\n"
          ]
        },
        {
          "output_type": "execute_result",
          "data": {
            "text/plain": [
              "Timestamp('2021-02-27 00:00:00')"
            ]
          },
          "metadata": {},
          "execution_count": 46
        }
      ],
      "source": [
        "Timestamp('27-02-2021')"
      ]
    },
    {
      "cell_type": "markdown",
      "metadata": {
        "id": "y1X42chFU5hp"
      },
      "source": [
        "#  <a name=\"secao_7\"> 7. Erros </a>\n",
        "[voltar ao índice](#indice)"
      ]
    },
    {
      "cell_type": "code",
      "execution_count": 47,
      "metadata": {
        "id": "q3AJYSLDU5hp"
      },
      "outputs": [],
      "source": [
        "tupla_inteiros\n",
        "\n",
        "def adicionar_elemento(x,y):\n",
        "    try:\n",
        "        x.append(y)\n",
        "        \n",
        "        return x\n",
        "    \n",
        "    except AttributeError:\n",
        "        try:\n",
        "            print('{} não tem o append'.format(x))\n",
        "\n",
        "            return x+y\n",
        "        except TypeError:\n",
        "            print('Não posso somar isso!')\n",
        "            \n",
        "    "
      ]
    },
    {
      "cell_type": "code",
      "execution_count": 48,
      "metadata": {
        "colab": {
          "base_uri": "https://localhost:8080/"
        },
        "id": "n2_GSxW5U5hp",
        "outputId": "cd78d79f-94fc-42dd-df6d-692af8fbb45d"
      },
      "outputs": [
        {
          "output_type": "execute_result",
          "data": {
            "text/plain": [
              "[1, 2, 3, 4, 5]"
            ]
          },
          "metadata": {},
          "execution_count": 48
        }
      ],
      "source": [
        "adicionar_elemento(inteiros,5)"
      ]
    },
    {
      "cell_type": "code",
      "execution_count": 49,
      "metadata": {
        "colab": {
          "base_uri": "https://localhost:8080/"
        },
        "id": "NP2_TM1VU5hp",
        "outputId": "8bacb373-d4b7-4631-d89b-d081e038115d"
      },
      "outputs": [
        {
          "output_type": "stream",
          "name": "stdout",
          "text": [
            "(1, 2, 3, 4, 5, 6) não tem o append\n",
            "Não posso somar isso!\n"
          ]
        }
      ],
      "source": [
        "adicionar_elemento(tupla_inteiros,7)"
      ]
    },
    {
      "cell_type": "code",
      "execution_count": 50,
      "metadata": {
        "colab": {
          "base_uri": "https://localhost:8080/"
        },
        "id": "aeMPFpMJU5hp",
        "outputId": "1e46b3d0-5eaf-4205-b3d2-bacfd6668925"
      },
      "outputs": [
        {
          "output_type": "stream",
          "name": "stdout",
          "text": [
            "Palmeiras não tem o append\n",
            "Não posso somar isso!\n"
          ]
        }
      ],
      "source": [
        "adicionar_elemento(palavra,7)"
      ]
    },
    {
      "cell_type": "code",
      "execution_count": 51,
      "metadata": {
        "colab": {
          "base_uri": "https://localhost:8080/",
          "height": 169
        },
        "id": "-z-68G0TU5hp",
        "outputId": "2ecc5297-155a-45d8-ff28-90fe5ddb4790"
      },
      "outputs": [
        {
          "output_type": "error",
          "ename": "TypeError",
          "evalue": "ignored",
          "traceback": [
            "\u001b[0;31m---------------------------------------------------------------------------\u001b[0m",
            "\u001b[0;31mTypeError\u001b[0m                                 Traceback (most recent call last)",
            "\u001b[0;32m<ipython-input-51-36e343e130f6>\u001b[0m in \u001b[0;36m<cell line: 1>\u001b[0;34m()\u001b[0m\n\u001b[0;32m----> 1\u001b[0;31m \u001b[0madicionar_elemento\u001b[0m\u001b[0;34m(\u001b[0m\u001b[0minteiros\u001b[0m\u001b[0;34m)\u001b[0m\u001b[0;34m\u001b[0m\u001b[0;34m\u001b[0m\u001b[0m\n\u001b[0m",
            "\u001b[0;31mTypeError\u001b[0m: adicionar_elemento() missing 1 required positional argument: 'y'"
          ]
        }
      ],
      "source": [
        "adicionar_elemento(inteiros)"
      ]
    },
    {
      "cell_type": "markdown",
      "metadata": {
        "id": "gu7qBRQ0U5hq"
      },
      "source": [
        "#  <a name=\"conclusao\"> Conclusão </a>\n",
        "[voltar ao índice](#indice)"
      ]
    },
    {
      "cell_type": "markdown",
      "metadata": {
        "id": "tiAxkeYtU5hq"
      },
      "source": [
        "Neste notebook vimos os conceitos fundamentais de python: Listas,Loops,IF,Funções,Classes,Imports e Erros. A exposição foi bem básica e tocou apenas os pontos mais essenciais. Para uma maior profundidade aconselhamos verificar um curso exclusivo de python"
      ]
    }
  ],
  "metadata": {
    "hide_input": false,
    "kernelspec": {
      "display_name": "Python 3",
      "language": "python",
      "name": "python3"
    },
    "language_info": {
      "codemirror_mode": {
        "name": "ipython",
        "version": 3
      },
      "file_extension": ".py",
      "mimetype": "text/x-python",
      "name": "python",
      "nbconvert_exporter": "python",
      "pygments_lexer": "ipython3",
      "version": "3.6.10"
    },
    "toc": {
      "base_numbering": 1,
      "nav_menu": {
        "height": "294px",
        "width": "216px"
      },
      "number_sections": true,
      "sideBar": true,
      "skip_h1_title": false,
      "title_cell": "Table of Contents",
      "title_sidebar": "Contents",
      "toc_cell": false,
      "toc_position": {},
      "toc_section_display": true,
      "toc_window_display": false
    },
    "varInspector": {
      "cols": {
        "lenName": 16,
        "lenType": 16,
        "lenVar": 40
      },
      "kernels_config": {
        "python": {
          "delete_cmd_postfix": "",
          "delete_cmd_prefix": "del ",
          "library": "var_list.py",
          "varRefreshCmd": "print(var_dic_list())"
        },
        "r": {
          "delete_cmd_postfix": ") ",
          "delete_cmd_prefix": "rm(",
          "library": "var_list.r",
          "varRefreshCmd": "cat(var_dic_list()) "
        }
      },
      "types_to_exclude": [
        "module",
        "function",
        "builtin_function_or_method",
        "instance",
        "_Feature"
      ],
      "window_display": false
    },
    "colab": {
      "provenance": []
    }
  },
  "nbformat": 4,
  "nbformat_minor": 0
}